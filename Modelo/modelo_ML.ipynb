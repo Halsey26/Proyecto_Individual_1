{
  "cells": [
    {
      "cell_type": "markdown",
      "metadata": {},
      "source": [
        "### MODELO Sistema Recomendación\n"
      ]
    },
    {
      "cell_type": "markdown",
      "metadata": {},
      "source": [
        "### Librerias , carga de archivos"
      ]
    },
    {
      "cell_type": "code",
      "execution_count": 67,
      "metadata": {
        "id": "JOUMlYSiNmRs"
      },
      "outputs": [],
      "source": [
        "import pandas as pd\n",
        "from sklearn.feature_extraction.text import CountVectorizer\n",
        "from sklearn.metrics.pairwise import cosine_similarity\n",
        "from sklearn.preprocessing import StandardScaler, OneHotEncoder\n",
        "from sklearn.compose import ColumnTransformer\n",
        "from sklearn.pipeline import Pipeline\n",
        "from sklearn.neighbors import NearestNeighbors"
      ]
    },
    {
      "cell_type": "code",
      "execution_count": 68,
      "metadata": {},
      "outputs": [],
      "source": [
        "movies_filt = pd.read_parquet('../datasets/movies_modelo.parquet')"
      ]
    },
    {
      "cell_type": "code",
      "execution_count": 89,
      "metadata": {},
      "outputs": [],
      "source": [
        "# movies_filt = pd.read_parquet('movies_modelo.parquet')"
      ]
    },
    {
      "cell_type": "markdown",
      "metadata": {},
      "source": [
        "Nuevo **Dataframe**: Filtro por pularidad"
      ]
    },
    {
      "cell_type": "markdown",
      "metadata": {},
      "source": [
        "###  Preprocesamiento"
      ]
    },
    {
      "cell_type": "markdown",
      "metadata": {},
      "source": [
        "- Features: genres, vote_average, popularity"
      ]
    },
    {
      "cell_type": "code",
      "execution_count": 88,
      "metadata": {},
      "outputs": [
        {
          "data": {
            "text/plain": [
              "list"
            ]
          },
          "execution_count": 88,
          "metadata": {},
          "output_type": "execute_result"
        }
      ],
      "source": [
        "type(movies_filt['genres'][0])"
      ]
    },
    {
      "cell_type": "code",
      "execution_count": 74,
      "metadata": {},
      "outputs": [
        {
          "name": "stderr",
          "output_type": "stream",
          "text": [
            "C:\\Users\\Angelica\\AppData\\Local\\Temp\\ipykernel_14580\\2205104690.py:4: SettingWithCopyWarning: \n",
            "A value is trying to be set on a copy of a slice from a DataFrame.\n",
            "Try using .loc[row_indexer,col_indexer] = value instead\n",
            "\n",
            "See the caveats in the documentation: https://pandas.pydata.org/pandas-docs/stable/user_guide/indexing.html#returning-a-view-versus-a-copy\n",
            "  movies_filt['genres'] = movies_filt['genres'].apply(lambda x: x.split(','))  # Asegúrate de que los géneros estén separados por comas\n"
          ]
        }
      ],
      "source": [
        "# Convertir columna 'genres' de una cadena de texto a una lista\n",
        "movies_filt['genres'] = movies_filt['genres'].apply(lambda x: x.split(','))  # Asegúrate de que los géneros estén separados por comas\n",
        "\n",
        "\n",
        "# Se codifica los géneros a binario\n",
        "mlb = MultiLabelBinarizer()\n",
        "genres_encoded = mlb.fit_transform(movies_filt['genres'])\n",
        "genres_df = pd.DataFrame(genres_encoded, columns=mlb.classes_)"
      ]
    },
    {
      "cell_type": "code",
      "execution_count": 79,
      "metadata": {},
      "outputs": [],
      "source": [
        "# Seleccionar los features numericos\n",
        "features_num = movies_filt[['vote_average', 'popularity']]\n",
        "\n",
        "# Se normaliza escalando\n",
        "scaler = StandardScaler()\n",
        "features_num_escaldas = scaler.fit_transform(features_num)\n",
        "numeric_df = pd.DataFrame(features_num_escaldas, columns=features_num.columns)"
      ]
    },
    {
      "cell_type": "code",
      "execution_count": 80,
      "metadata": {},
      "outputs": [],
      "source": [
        "# Se concatena los features normalizados y escalados\n",
        "features_df = pd.concat([genres_df.reset_index(drop=True), numeric_df.reset_index(drop=True)], axis=1)\n"
      ]
    },
    {
      "cell_type": "markdown",
      "metadata": {},
      "source": [
        "Similitud del coseno"
      ]
    },
    {
      "cell_type": "code",
      "execution_count": 81,
      "metadata": {},
      "outputs": [],
      "source": [
        "# calculo de la matriz\n",
        "cosine_simi = cosine_similarity(features_df, features_df)"
      ]
    },
    {
      "cell_type": "markdown",
      "metadata": {},
      "source": [
        "### Funcion de recomnedación"
      ]
    },
    {
      "cell_type": "code",
      "execution_count": 95,
      "metadata": {},
      "outputs": [],
      "source": [
        "\n",
        "def recomendacion(titulo, df):\n",
        "\n",
        "    # Normalizar el título para la búsqueda\n",
        "    titulo = titulo.lower()\n",
        "\n",
        "    titulo_row = df[df[\"title\"].str.lower() == titulo ]\n",
        "    \n",
        "    # Se verifica si la película existe en la base de datos\n",
        "    if titulo_row.empty:\n",
        "        return 0\n",
        "\n",
        "    # Se obtiene el indice dado el titulo\n",
        "    idx = titulo_row.index[0]\n",
        "\n",
        "    # Obtengo los puntajes de similitud \n",
        "    sim_scores = list(enumerate(cosine_sim[idx]))\n",
        "\n",
        "    # Se ordena según la similitud de puntajes en orden descendente\n",
        "    sim_scores = sorted(sim_scores, key=lambda x: x[1], reverse=True)\n",
        "\n",
        "    # Indices de las películas similares\n",
        "    sim_indices = [i[0] for i in sim_scores if i[0] != idx]\n",
        "\n",
        "    # Se verifica si peliculas similares\n",
        "    if len(sim_indices) == 0:\n",
        "        return f\"No se encontraron películas similares a '{titulo}'.\"\n",
        "\n",
        "    # Obtengo los titulos de las 5 películas más similares\n",
        "    top_movies = df['title'].iloc[sim_indices[:5]].values.tolist()\n",
        "\n",
        "    return top_movies\n"
      ]
    },
    {
      "cell_type": "code",
      "execution_count": 97,
      "metadata": {},
      "outputs": [],
      "source": [
        "titulo_pelicula = 'Toy Story'\n",
        "recomendaciones = recomendacion(titulo_pelicula, movies_filt)\n"
      ]
    },
    {
      "cell_type": "code",
      "execution_count": 98,
      "metadata": {},
      "outputs": [
        {
          "name": "stdout",
          "output_type": "stream",
          "text": [
            "1. Jaws\n",
            "2. Monsters, Inc.\n",
            "3. In a Heartbeat\n",
            "4. 300\n",
            "5. The Nice Guys\n"
          ]
        }
      ],
      "source": [
        "if recomendaciones == 0: \n",
        "    print(\"Error: Película {titulo_pelicula} no encontrada en el dataset.\")\n",
        "else:\n",
        "    for indice, i in enumerate(recomendaciones):\n",
        "        print(f\"{indice+1}. {i}\")"
      ]
    }
  ],
  "metadata": {
    "colab": {
      "authorship_tag": "ABX9TyMPuWRxpSMCSt3tAtkSUxy4",
      "include_colab_link": true,
      "provenance": []
    },
    "kernelspec": {
      "display_name": "Python 3",
      "name": "python3"
    },
    "language_info": {
      "codemirror_mode": {
        "name": "ipython",
        "version": 3
      },
      "file_extension": ".py",
      "mimetype": "text/x-python",
      "name": "python",
      "nbconvert_exporter": "python",
      "pygments_lexer": "ipython3",
      "version": "3.11.2"
    }
  },
  "nbformat": 4,
  "nbformat_minor": 0
}
