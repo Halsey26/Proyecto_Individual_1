{
 "cells": [
  {
   "cell_type": "markdown",
   "metadata": {},
   "source": [
    "## ETL_ MOVIES\n",
    "TRANSFORMACIONES: \n",
    "- Algunos campos, como **belongs_to_collection**, **production_companies** y otros (ver diccionario de datos) están anidados, esto es o bien tienen un diccionario o una lista como valores en cada fila, ¡deberán desanidarlos para poder y unirlos al dataset de nuevo hacer alguna de las consultas de la API! O bien buscar la manera de acceder a esos datos sin desanidarlos.<P>\n",
    "\n",
    "- Los valores nulos de los campos **revenue**, **budget** deben ser rellenados por el número 0.<P>\n",
    "\n",
    "- Los valores nulos del campo **release date** deben eliminarse.<P>\n",
    " \n",
    "- De haber fechas, deberán tener el formato AAAA-mm-dd, además deberán crear la columna **release_year** donde extraerán el año de la fecha de estreno. <P>\n",
    "\n",
    "- Crear la columna con el retorno de inversión, llamada **return** con los campos **revenue** y **budget**, dividiendo estas dos últimas **revenue** / **budget**, cuando no hay datos disponibles para calcularlo, deberá tomar el valor 0. <P>\n",
    "\n",
    "- Eliminar las columnas que no serán utilizadas, **video**,**imdb_id**,**adult**,**original_title**,**poster_path** y **homepage**. <P>"
   ]
  },
  {
   "cell_type": "code",
   "execution_count": 8,
   "metadata": {},
   "outputs": [],
   "source": [
    "import numpy as np\n",
    "import pandas as pd\n",
    "from pandas import json_normalize\n",
    "import ast"
   ]
  },
  {
   "cell_type": "markdown",
   "metadata": {},
   "source": [
    "### 0. Carga de los datos"
   ]
  },
  {
   "cell_type": "code",
   "execution_count": 9,
   "metadata": {},
   "outputs": [
    {
     "name": "stderr",
     "output_type": "stream",
     "text": [
      "C:\\Users\\Angelica\\AppData\\Local\\Temp\\ipykernel_8792\\3618576697.py:1: DtypeWarning: Columns (10) have mixed types. Specify dtype option on import or set low_memory=False.\n",
      "  movie_test  = pd.read_csv('datasets/movies_dataset.csv', sep=',',quotechar='\"', encoding='utf-8' )\n"
     ]
    }
   ],
   "source": [
    "movie_test  = pd.read_csv('datasets/movies_dataset.csv', sep=',',quotechar='\"', encoding='utf-8' )"
   ]
  },
  {
   "cell_type": "code",
   "execution_count": 10,
   "metadata": {},
   "outputs": [
    {
     "name": "stdout",
     "output_type": "stream",
     "text": [
      "(45466, 24)\n"
     ]
    }
   ],
   "source": [
    "print(movie_test.shape)"
   ]
  },
  {
   "cell_type": "markdown",
   "metadata": {},
   "source": [
    "Copia del dataset para aplicar las transformaciones"
   ]
  },
  {
   "cell_type": "code",
   "execution_count": 11,
   "metadata": {},
   "outputs": [],
   "source": [
    "movie_test_df = movie_test.copy()"
   ]
  },
  {
   "cell_type": "code",
   "execution_count": 12,
   "metadata": {},
   "outputs": [
    {
     "data": {
      "text/html": [
       "<div>\n",
       "<style scoped>\n",
       "    .dataframe tbody tr th:only-of-type {\n",
       "        vertical-align: middle;\n",
       "    }\n",
       "\n",
       "    .dataframe tbody tr th {\n",
       "        vertical-align: top;\n",
       "    }\n",
       "\n",
       "    .dataframe thead th {\n",
       "        text-align: right;\n",
       "    }\n",
       "</style>\n",
       "<table border=\"1\" class=\"dataframe\">\n",
       "  <thead>\n",
       "    <tr style=\"text-align: right;\">\n",
       "      <th></th>\n",
       "      <th>adult</th>\n",
       "      <th>belongs_to_collection</th>\n",
       "      <th>budget</th>\n",
       "      <th>genres</th>\n",
       "      <th>homepage</th>\n",
       "      <th>id</th>\n",
       "      <th>imdb_id</th>\n",
       "      <th>original_language</th>\n",
       "      <th>original_title</th>\n",
       "      <th>overview</th>\n",
       "      <th>...</th>\n",
       "      <th>release_date</th>\n",
       "      <th>revenue</th>\n",
       "      <th>runtime</th>\n",
       "      <th>spoken_languages</th>\n",
       "      <th>status</th>\n",
       "      <th>tagline</th>\n",
       "      <th>title</th>\n",
       "      <th>video</th>\n",
       "      <th>vote_average</th>\n",
       "      <th>vote_count</th>\n",
       "    </tr>\n",
       "  </thead>\n",
       "  <tbody>\n",
       "    <tr>\n",
       "      <th>0</th>\n",
       "      <td>False</td>\n",
       "      <td>{'id': 10194, 'name': 'Toy Story Collection', ...</td>\n",
       "      <td>30000000</td>\n",
       "      <td>[{'id': 16, 'name': 'Animation'}, {'id': 35, '...</td>\n",
       "      <td>http://toystory.disney.com/toy-story</td>\n",
       "      <td>862</td>\n",
       "      <td>tt0114709</td>\n",
       "      <td>en</td>\n",
       "      <td>Toy Story</td>\n",
       "      <td>Led by Woody, Andy's toys live happily in his ...</td>\n",
       "      <td>...</td>\n",
       "      <td>1995-10-30</td>\n",
       "      <td>373554033.0</td>\n",
       "      <td>81.0</td>\n",
       "      <td>[{'iso_639_1': 'en', 'name': 'English'}]</td>\n",
       "      <td>Released</td>\n",
       "      <td>NaN</td>\n",
       "      <td>Toy Story</td>\n",
       "      <td>False</td>\n",
       "      <td>7.7</td>\n",
       "      <td>5415.0</td>\n",
       "    </tr>\n",
       "  </tbody>\n",
       "</table>\n",
       "<p>1 rows × 24 columns</p>\n",
       "</div>"
      ],
      "text/plain": [
       "   adult                              belongs_to_collection    budget  \\\n",
       "0  False  {'id': 10194, 'name': 'Toy Story Collection', ...  30000000   \n",
       "\n",
       "                                              genres  \\\n",
       "0  [{'id': 16, 'name': 'Animation'}, {'id': 35, '...   \n",
       "\n",
       "                               homepage   id    imdb_id original_language  \\\n",
       "0  http://toystory.disney.com/toy-story  862  tt0114709                en   \n",
       "\n",
       "  original_title                                           overview  ...  \\\n",
       "0      Toy Story  Led by Woody, Andy's toys live happily in his ...  ...   \n",
       "\n",
       "  release_date      revenue runtime                          spoken_languages  \\\n",
       "0   1995-10-30  373554033.0    81.0  [{'iso_639_1': 'en', 'name': 'English'}]   \n",
       "\n",
       "     status  tagline      title  video vote_average vote_count  \n",
       "0  Released      NaN  Toy Story  False          7.7     5415.0  \n",
       "\n",
       "[1 rows x 24 columns]"
      ]
     },
     "execution_count": 12,
     "metadata": {},
     "output_type": "execute_result"
    }
   ],
   "source": [
    "movie_test_df.head(1)"
   ]
  },
  {
   "cell_type": "markdown",
   "metadata": {},
   "source": [
    "### 1. TRANSFORMACION - Eliminación columnas"
   ]
  },
  {
   "cell_type": "markdown",
   "metadata": {},
   "source": [
    "COLUMNAS:\n",
    "- video, imdb_id, adult, original_title, poster_path y homepage."
   ]
  },
  {
   "cell_type": "code",
   "execution_count": 13,
   "metadata": {},
   "outputs": [],
   "source": [
    "columnas = [ 'video', 'imdb_id', 'adult', 'original_title', 'poster_path' , 'homepage']\n",
    "movie_test_df = movie_test_df.drop(columnas, axis=1)"
   ]
  },
  {
   "cell_type": "markdown",
   "metadata": {},
   "source": [
    "Columnas innecesarias para el análisis"
   ]
  },
  {
   "cell_type": "code",
   "execution_count": 14,
   "metadata": {},
   "outputs": [],
   "source": [
    "columnas =['overview','status','tagline'] \n",
    "movie_test_df  =movie_test_df.drop (columnas, axis=1)"
   ]
  },
  {
   "cell_type": "markdown",
   "metadata": {},
   "source": [
    "### 2. TRANSFORMACION -  VALORES NULOS A '0'"
   ]
  },
  {
   "cell_type": "markdown",
   "metadata": {},
   "source": [
    "COLUMNAS:\n",
    "- budget\n",
    "- revenue"
   ]
  },
  {
   "cell_type": "markdown",
   "metadata": {},
   "source": [
    "Conversión a enteros y valores nulos seteados con '0'\n",
    "- pd.to_numeric   : convierte los valores de la columna, maneja errores 'coerce' (lo paso a nan)\n",
    "- fillna(0)       : valores nan a 0\n",
    "- astype('Int64') : valores enteros"
   ]
  },
  {
   "cell_type": "code",
   "execution_count": 15,
   "metadata": {},
   "outputs": [],
   "source": [
    "movie_test_df[\"budget\"]= pd.to_numeric(movie_test_df[\"budget\"], errors='coerce').fillna(0).astype('Int64')\n",
    "movie_test_df[\"revenue\"]= pd.to_numeric(movie_test_df[\"revenue\"], errors= 'coerce').fillna(0).astype('Int64')"
   ]
  },
  {
   "cell_type": "code",
   "execution_count": 16,
   "metadata": {},
   "outputs": [
    {
     "name": "stdout",
     "output_type": "stream",
     "text": [
      "<class 'str'>\n",
      "<class 'numpy.int64'>\n",
      "<class 'numpy.float64'>\n",
      "<class 'numpy.int64'>\n"
     ]
    }
   ],
   "source": [
    "#Se verifica cambios\n",
    "print(type(movie_test[\"budget\"][0]))\n",
    "print(type(movie_test_df[\"budget\"][0]))\n",
    "\n",
    "print(type(movie_test[\"revenue\"][0]))\n",
    "print(type(movie_test_df[\"revenue\"][0]))"
   ]
  },
  {
   "cell_type": "markdown",
   "metadata": {},
   "source": [
    "### 3. TRANSFORMACION -  COLUMNA RETURN"
   ]
  },
  {
   "cell_type": "markdown",
   "metadata": {},
   "source": [
    "return = revenue/budget (recaudacion/presupuesto)"
   ]
  },
  {
   "cell_type": "code",
   "execution_count": 17,
   "metadata": {},
   "outputs": [],
   "source": [
    "movie_test_df[\"return\"] = movie_test_df.apply(\n",
    "                        lambda fila: round( fila['revenue']/fila['budget'], 2) if fila['budget']!= 0  else 0, axis = 1)"
   ]
  },
  {
   "cell_type": "markdown",
   "metadata": {},
   "source": [
    "### 4. TRANSFORMACION \n",
    "* ELIMINACIÓN VALORES NULOS 'release date' <p>\n",
    "* COLUMNA RELEASE_YEAR"
   ]
  },
  {
   "cell_type": "markdown",
   "metadata": {},
   "source": [
    "- Pasar de string a formato datetime (AAAA-mm-dd)\n",
    "- Obtiene la columna release_year, a formato Int\n",
    "- Se elimina las filas donde haya valores nulos en 'release_date'"
   ]
  },
  {
   "cell_type": "code",
   "execution_count": 18,
   "metadata": {},
   "outputs": [],
   "source": [
    "movie_test_df[\"release_date\"] = pd.to_datetime(movie_test_df[\"release_date\"], errors= 'coerce', format='%Y-%m-%d')\n",
    "movie_test_df[\"release_year\"] = movie_test_df[\"release_date\"].dt.year.astype('Int64')"
   ]
  },
  {
   "cell_type": "code",
   "execution_count": 19,
   "metadata": {},
   "outputs": [],
   "source": [
    "movie_test_df = movie_test_df.dropna(subset= 'release_date')"
   ]
  },
  {
   "cell_type": "markdown",
   "metadata": {},
   "source": [
    "Comprobacion de eliminación de valores nulos"
   ]
  },
  {
   "cell_type": "code",
   "execution_count": 20,
   "metadata": {},
   "outputs": [
    {
     "name": "stdout",
     "output_type": "stream",
     "text": [
      "87\n",
      "0\n"
     ]
    }
   ],
   "source": [
    "print(movie_test[\"release_date\"].isnull().sum())\n",
    "print(movie_test_df[\"release_date\"].isnull().sum())"
   ]
  },
  {
   "cell_type": "code",
   "execution_count": 21,
   "metadata": {},
   "outputs": [
    {
     "name": "stdout",
     "output_type": "stream",
     "text": [
      "0\n"
     ]
    }
   ],
   "source": [
    "print(movie_test_df[\"release_year\"].isnull().sum())"
   ]
  },
  {
   "cell_type": "markdown",
   "metadata": {},
   "source": [
    "Comprobación columna 'release_year'"
   ]
  },
  {
   "cell_type": "code",
   "execution_count": 22,
   "metadata": {},
   "outputs": [
    {
     "data": {
      "text/html": [
       "<div>\n",
       "<style scoped>\n",
       "    .dataframe tbody tr th:only-of-type {\n",
       "        vertical-align: middle;\n",
       "    }\n",
       "\n",
       "    .dataframe tbody tr th {\n",
       "        vertical-align: top;\n",
       "    }\n",
       "\n",
       "    .dataframe thead th {\n",
       "        text-align: right;\n",
       "    }\n",
       "</style>\n",
       "<table border=\"1\" class=\"dataframe\">\n",
       "  <thead>\n",
       "    <tr style=\"text-align: right;\">\n",
       "      <th></th>\n",
       "      <th>release_date</th>\n",
       "      <th>release_year</th>\n",
       "    </tr>\n",
       "  </thead>\n",
       "  <tbody>\n",
       "    <tr>\n",
       "      <th>0</th>\n",
       "      <td>1995-10-30</td>\n",
       "      <td>1995</td>\n",
       "    </tr>\n",
       "    <tr>\n",
       "      <th>1</th>\n",
       "      <td>1995-12-15</td>\n",
       "      <td>1995</td>\n",
       "    </tr>\n",
       "    <tr>\n",
       "      <th>2</th>\n",
       "      <td>1995-12-22</td>\n",
       "      <td>1995</td>\n",
       "    </tr>\n",
       "    <tr>\n",
       "      <th>3</th>\n",
       "      <td>1995-12-22</td>\n",
       "      <td>1995</td>\n",
       "    </tr>\n",
       "    <tr>\n",
       "      <th>4</th>\n",
       "      <td>1995-02-10</td>\n",
       "      <td>1995</td>\n",
       "    </tr>\n",
       "  </tbody>\n",
       "</table>\n",
       "</div>"
      ],
      "text/plain": [
       "  release_date  release_year\n",
       "0   1995-10-30          1995\n",
       "1   1995-12-15          1995\n",
       "2   1995-12-22          1995\n",
       "3   1995-12-22          1995\n",
       "4   1995-02-10          1995"
      ]
     },
     "execution_count": 22,
     "metadata": {},
     "output_type": "execute_result"
    }
   ],
   "source": [
    "movie_test_df[['release_date','release_year']].head(5)"
   ]
  },
  {
   "cell_type": "markdown",
   "metadata": {},
   "source": [
    "### 5. TRANSFORMACION - DESANIDAR CAMPOS"
   ]
  },
  {
   "cell_type": "markdown",
   "metadata": {},
   "source": [
    "Columnas con campos anidados:\n",
    "- belongs_to_collection  - dicionario\n",
    "- genres                 - lista de dicionarios\n",
    "- production_companies   - lista de dicionario\n",
    "- production_countries   - lista de dicionario\n",
    "- spoken_languages       - lista de dicionario"
   ]
  },
  {
   "cell_type": "markdown",
   "metadata": {},
   "source": [
    "Función para desanidar <p>\n",
    "**Párametros de entrada**: dataframe y columna a desanidar\n",
    "\n",
    "1. Se extraer los valores del str\n",
    "2. Verificar si es lista/diccionario\n",
    "3. Normalizar columnas\n",
    "4. Cambiar el nombre de columnas normalizadas\n",
    "5. Elimina la columna original\n",
    "6. Concatenar las nuevas columnas al dataframe final"
   ]
  },
  {
   "cell_type": "code",
   "execution_count": 23,
   "metadata": {},
   "outputs": [],
   "source": [
    "\n",
    "def desanidar_concat(df, col):\n",
    "    # Convertir cadenas de texto en listas/diccionarios si es necesario\n",
    "    df[col] = df[col].apply(lambda x: ast.literal_eval(x) if isinstance(x, str) else x)\n",
    "    \n",
    "    # Explode para listas de diccionarios o manejar diccionarios directamente\n",
    "    if df[col].apply(lambda x: isinstance(x,list)).any(): \n",
    "        col_norm = pd.json_normalize(df[col].explode().dropna()).reset_index(drop=True)\n",
    "    else: # para diccionarios\n",
    "        col_norm = pd.json_normalize(df[col].dropna()).reset_index(drop=True)\n",
    "    \n",
    "    # Rename las nuevas columnas\n",
    "    col_norm = col_norm.add_suffix(f'_{col}')\n",
    "\n",
    "    #Elimina columna original, agrega columnas nuevas al dataframe\n",
    "    #df = pd.concat([df.drop(columns=[col]) , col_norm], axis=1)\n",
    "    df= df.drop(columns=col).join(col_norm)\n",
    "\n",
    "    return df"
   ]
  },
  {
   "cell_type": "code",
   "execution_count": 24,
   "metadata": {},
   "outputs": [],
   "source": [
    "movie_test_df=desanidar_concat(movie_test_df, \"belongs_to_collection\")\n",
    "movie_test_df=desanidar_concat(movie_test_df, \"genres\")\n",
    "movie_test_df=desanidar_concat(movie_test_df, \"production_companies\")\n",
    "movie_test_df=desanidar_concat(movie_test_df, \"production_countries\")\n",
    "movie_test_df=desanidar_concat(movie_test_df, \"spoken_languages\")\n",
    "\n",
    "#for columna in ['genres', 'production_companies', 'production_countries', 'spoken_languages']:\n",
    "#    movies = desanidar_concat(movies, columna)"
   ]
  },
  {
   "cell_type": "markdown",
   "metadata": {},
   "source": [
    "Comparación "
   ]
  },
  {
   "cell_type": "code",
   "execution_count": 25,
   "metadata": {},
   "outputs": [
    {
     "name": "stdout",
     "output_type": "stream",
     "text": [
      "Index(['adult', 'belongs_to_collection', 'budget', 'genres', 'homepage', 'id',\n",
      "       'imdb_id', 'original_language', 'original_title', 'overview',\n",
      "       'popularity', 'poster_path', 'production_companies',\n",
      "       'production_countries', 'release_date', 'revenue', 'runtime',\n",
      "       'spoken_languages', 'status', 'tagline', 'title', 'video',\n",
      "       'vote_average', 'vote_count'],\n",
      "      dtype='object')\n",
      "Index(['budget', 'id', 'original_language', 'popularity', 'release_date',\n",
      "       'revenue', 'runtime', 'title', 'vote_average', 'vote_count', 'return',\n",
      "       'release_year', 'id_belongs_to_collection',\n",
      "       'name_belongs_to_collection', 'poster_path_belongs_to_collection',\n",
      "       'backdrop_path_belongs_to_collection', 'id_genres', 'name_genres',\n",
      "       'name_production_companies', 'id_production_companies',\n",
      "       'iso_3166_1_production_countries', 'name_production_countries',\n",
      "       'iso_639_1_spoken_languages', 'name_spoken_languages'],\n",
      "      dtype='object')\n"
     ]
    }
   ],
   "source": [
    "print(movie_test.columns)\n",
    "print(movie_test_df.columns)"
   ]
  },
  {
   "cell_type": "code",
   "execution_count": 26,
   "metadata": {},
   "outputs": [
    {
     "data": {
      "text/html": [
       "<div>\n",
       "<style scoped>\n",
       "    .dataframe tbody tr th:only-of-type {\n",
       "        vertical-align: middle;\n",
       "    }\n",
       "\n",
       "    .dataframe tbody tr th {\n",
       "        vertical-align: top;\n",
       "    }\n",
       "\n",
       "    .dataframe thead th {\n",
       "        text-align: right;\n",
       "    }\n",
       "</style>\n",
       "<table border=\"1\" class=\"dataframe\">\n",
       "  <thead>\n",
       "    <tr style=\"text-align: right;\">\n",
       "      <th></th>\n",
       "      <th>budget</th>\n",
       "      <th>id</th>\n",
       "      <th>original_language</th>\n",
       "      <th>popularity</th>\n",
       "      <th>release_date</th>\n",
       "      <th>revenue</th>\n",
       "      <th>runtime</th>\n",
       "      <th>title</th>\n",
       "      <th>vote_average</th>\n",
       "      <th>vote_count</th>\n",
       "      <th>...</th>\n",
       "      <th>poster_path_belongs_to_collection</th>\n",
       "      <th>backdrop_path_belongs_to_collection</th>\n",
       "      <th>id_genres</th>\n",
       "      <th>name_genres</th>\n",
       "      <th>name_production_companies</th>\n",
       "      <th>id_production_companies</th>\n",
       "      <th>iso_3166_1_production_countries</th>\n",
       "      <th>name_production_countries</th>\n",
       "      <th>iso_639_1_spoken_languages</th>\n",
       "      <th>name_spoken_languages</th>\n",
       "    </tr>\n",
       "  </thead>\n",
       "  <tbody>\n",
       "    <tr>\n",
       "      <th>0</th>\n",
       "      <td>30000000</td>\n",
       "      <td>862</td>\n",
       "      <td>en</td>\n",
       "      <td>21.946943</td>\n",
       "      <td>1995-10-30</td>\n",
       "      <td>373554033</td>\n",
       "      <td>81.0</td>\n",
       "      <td>Toy Story</td>\n",
       "      <td>7.7</td>\n",
       "      <td>5415.0</td>\n",
       "      <td>...</td>\n",
       "      <td>/7G9915LfUQ2lVfwMEEhDsn3kT4B.jpg</td>\n",
       "      <td>/9FBwqcd9IRruEDUrTdcaafOMKUq.jpg</td>\n",
       "      <td>16</td>\n",
       "      <td>Animation</td>\n",
       "      <td>Pixar Animation Studios</td>\n",
       "      <td>3</td>\n",
       "      <td>US</td>\n",
       "      <td>United States of America</td>\n",
       "      <td>en</td>\n",
       "      <td>English</td>\n",
       "    </tr>\n",
       "  </tbody>\n",
       "</table>\n",
       "<p>1 rows × 24 columns</p>\n",
       "</div>"
      ],
      "text/plain": [
       "     budget   id original_language popularity release_date    revenue  \\\n",
       "0  30000000  862                en  21.946943   1995-10-30  373554033   \n",
       "\n",
       "   runtime      title  vote_average  vote_count  ...  \\\n",
       "0     81.0  Toy Story           7.7      5415.0  ...   \n",
       "\n",
       "   poster_path_belongs_to_collection  backdrop_path_belongs_to_collection  \\\n",
       "0   /7G9915LfUQ2lVfwMEEhDsn3kT4B.jpg     /9FBwqcd9IRruEDUrTdcaafOMKUq.jpg   \n",
       "\n",
       "   id_genres name_genres name_production_companies id_production_companies  \\\n",
       "0         16   Animation   Pixar Animation Studios                       3   \n",
       "\n",
       "   iso_3166_1_production_countries name_production_countries  \\\n",
       "0                               US  United States of America   \n",
       "\n",
       "  iso_639_1_spoken_languages  name_spoken_languages  \n",
       "0                         en                English  \n",
       "\n",
       "[1 rows x 24 columns]"
      ]
     },
     "execution_count": 26,
     "metadata": {},
     "output_type": "execute_result"
    }
   ],
   "source": [
    "movie_test_df.head(1)"
   ]
  },
  {
   "cell_type": "markdown",
   "metadata": {},
   "source": [
    "### EILIMINAR COLUMNAS INNECESARIAS"
   ]
  },
  {
   "cell_type": "markdown",
   "metadata": {},
   "source": [
    "Se analiza valores nulos en cada columna"
   ]
  },
  {
   "cell_type": "code",
   "execution_count": 27,
   "metadata": {},
   "outputs": [
    {
     "name": "stdout",
     "output_type": "stream",
     "text": [
      "budget                                     0\n",
      "id                                         0\n",
      "original_language                         11\n",
      "popularity                                 0\n",
      "release_date                               0\n",
      "revenue                                    0\n",
      "runtime                                  246\n",
      "title                                      0\n",
      "vote_average                               0\n",
      "vote_count                                 0\n",
      "return                                     0\n",
      "release_year                               0\n",
      "id_belongs_to_collection               40892\n",
      "name_belongs_to_collection             40892\n",
      "poster_path_belongs_to_collection      41435\n",
      "backdrop_path_belongs_to_collection    42120\n",
      "id_genres                                  0\n",
      "name_genres                                0\n",
      "name_production_companies                  0\n",
      "id_production_companies                    0\n",
      "iso_3166_1_production_countries            0\n",
      "name_production_countries                  0\n",
      "iso_639_1_spoken_languages                 0\n",
      "name_spoken_languages                      0\n",
      "dtype: int64\n"
     ]
    }
   ],
   "source": [
    "nulos = movie_test_df.isnull().sum()\n",
    "print(nulos )"
   ]
  },
  {
   "cell_type": "code",
   "execution_count": 28,
   "metadata": {},
   "outputs": [],
   "source": [
    "# 'overview','status','tagline'\n",
    "columnas =['id_belongs_to_collection', 'name_belongs_to_collection',\n",
    "       'poster_path_belongs_to_collection',\n",
    "       'backdrop_path_belongs_to_collection', \n",
    "       'iso_3166_1_production_countries','iso_639_1_spoken_languages'] \n",
    "movie_test_df  =movie_test_df.drop (columnas, axis=1)"
   ]
  },
  {
   "cell_type": "code",
   "execution_count": 29,
   "metadata": {},
   "outputs": [
    {
     "name": "stdout",
     "output_type": "stream",
     "text": [
      "budget                         0\n",
      "id                             0\n",
      "original_language             11\n",
      "popularity                     0\n",
      "release_date                   0\n",
      "revenue                        0\n",
      "runtime                      246\n",
      "title                          0\n",
      "vote_average                   0\n",
      "vote_count                     0\n",
      "return                         0\n",
      "release_year                   0\n",
      "id_genres                      0\n",
      "name_genres                    0\n",
      "name_production_companies      0\n",
      "id_production_companies        0\n",
      "name_production_countries      0\n",
      "name_spoken_languages          0\n",
      "dtype: int64\n"
     ]
    }
   ],
   "source": [
    "nulos = movie_test_df.isnull().sum()\n",
    "print(nulos )"
   ]
  },
  {
   "cell_type": "markdown",
   "metadata": {},
   "source": [
    "Comparación dataset original vs ETL(dataset)"
   ]
  },
  {
   "cell_type": "code",
   "execution_count": 30,
   "metadata": {},
   "outputs": [
    {
     "name": "stdout",
     "output_type": "stream",
     "text": [
      "(45466, 24)\n",
      "(45376, 18)\n"
     ]
    }
   ],
   "source": [
    "print(movie_test.shape)\n",
    "print(movie_test_df.shape)"
   ]
  },
  {
   "cell_type": "code",
   "execution_count": 31,
   "metadata": {},
   "outputs": [
    {
     "name": "stdout",
     "output_type": "stream",
     "text": [
      "<class 'pandas.core.frame.DataFrame'>\n",
      "Index: 45376 entries, 0 to 45465\n",
      "Data columns (total 18 columns):\n",
      " #   Column                     Non-Null Count  Dtype         \n",
      "---  ------                     --------------  -----         \n",
      " 0   budget                     45376 non-null  Int64         \n",
      " 1   id                         45376 non-null  object        \n",
      " 2   original_language          45365 non-null  object        \n",
      " 3   popularity                 45376 non-null  object        \n",
      " 4   release_date               45376 non-null  datetime64[ns]\n",
      " 5   revenue                    45376 non-null  Int64         \n",
      " 6   runtime                    45130 non-null  float64       \n",
      " 7   title                      45376 non-null  object        \n",
      " 8   vote_average               45376 non-null  float64       \n",
      " 9   vote_count                 45376 non-null  float64       \n",
      " 10  return                     45376 non-null  float64       \n",
      " 11  release_year               45376 non-null  Int64         \n",
      " 12  id_genres                  45376 non-null  int64         \n",
      " 13  name_genres                45376 non-null  object        \n",
      " 14  name_production_companies  45376 non-null  object        \n",
      " 15  id_production_companies    45376 non-null  int64         \n",
      " 16  name_production_countries  45376 non-null  object        \n",
      " 17  name_spoken_languages      45376 non-null  object        \n",
      "dtypes: Int64(3), datetime64[ns](1), float64(4), int64(2), object(8)\n",
      "memory usage: 7.7+ MB\n"
     ]
    }
   ],
   "source": [
    "movie_test_df.info()"
   ]
  },
  {
   "cell_type": "markdown",
   "metadata": {},
   "source": [
    "### CAMBIAR NOMBRE y TIPO DATOS (string => int, float, etc)"
   ]
  },
  {
   "cell_type": "code",
   "execution_count": 32,
   "metadata": {},
   "outputs": [
    {
     "data": {
      "text/plain": [
       "budget                                Int64\n",
       "id                                   object\n",
       "original_language                    object\n",
       "popularity                           object\n",
       "release_date                 datetime64[ns]\n",
       "revenue                               Int64\n",
       "runtime                             float64\n",
       "title                                object\n",
       "vote_average                        float64\n",
       "vote_count                          float64\n",
       "return                              float64\n",
       "release_year                          Int64\n",
       "id_genres                             int64\n",
       "name_genres                          object\n",
       "name_production_companies            object\n",
       "id_production_companies               int64\n",
       "name_production_countries            object\n",
       "name_spoken_languages                object\n",
       "dtype: object"
      ]
     },
     "execution_count": 32,
     "metadata": {},
     "output_type": "execute_result"
    }
   ],
   "source": [
    "movie_test_df.dtypes"
   ]
  },
  {
   "cell_type": "markdown",
   "metadata": {},
   "source": [
    "Cambiar nombres a columnas:"
   ]
  },
  {
   "cell_type": "code",
   "execution_count": 33,
   "metadata": {},
   "outputs": [],
   "source": [
    "col_renombrar= {'id':'IdMovie','name_genres': 'genres', 'name_production_companies':'production_companies',\n",
    "'name_production_countries':'production_countries', 'name_spoken_languages':'spoken_languages' }\n",
    "\n",
    "movie_test_df  =movie_test_df.rename( columns = col_renombrar)"
   ]
  },
  {
   "cell_type": "code",
   "execution_count": 34,
   "metadata": {},
   "outputs": [
    {
     "data": {
      "text/plain": [
       "Index(['budget', 'IdMovie', 'original_language', 'popularity', 'release_date',\n",
       "       'revenue', 'runtime', 'title', 'vote_average', 'vote_count', 'return',\n",
       "       'release_year', 'id_genres', 'genres', 'production_companies',\n",
       "       'id_production_companies', 'production_countries', 'spoken_languages'],\n",
       "      dtype='object')"
      ]
     },
     "execution_count": 34,
     "metadata": {},
     "output_type": "execute_result"
    }
   ],
   "source": [
    "movie_test_df.columns"
   ]
  },
  {
   "cell_type": "markdown",
   "metadata": {},
   "source": [
    "Cambiar tipo de datos\n",
    "- id    (str => int)"
   ]
  },
  {
   "cell_type": "code",
   "execution_count": 36,
   "metadata": {},
   "outputs": [],
   "source": [
    "movie_test_df[\"IdMovie\"] = movie_test_df[\"IdMovie\"].astype('Int64')\n",
    "movie_test_df[\"popularity\"] = movie_test_df[\"popularity\"].astype(float)"
   ]
  },
  {
   "cell_type": "code",
   "execution_count": 37,
   "metadata": {},
   "outputs": [
    {
     "name": "stdout",
     "output_type": "stream",
     "text": [
      "<class 'float'>\n"
     ]
    }
   ],
   "source": [
    "print(type(movie_test[\"popularity\"][0]))"
   ]
  },
  {
   "cell_type": "markdown",
   "metadata": {},
   "source": [
    "Comprobación cambios"
   ]
  },
  {
   "cell_type": "code",
   "execution_count": 41,
   "metadata": {},
   "outputs": [
    {
     "name": "stdout",
     "output_type": "stream",
     "text": [
      "<class 'str'>\n",
      "<class 'numpy.int64'>\n"
     ]
    }
   ],
   "source": [
    "print(type(movie_test[\"id\"][0]))\n",
    "print(type(movie_test_df[\"IdMovie\"][0]))"
   ]
  },
  {
   "cell_type": "markdown",
   "metadata": {},
   "source": [
    "Eliminación/Cambio de valores **NULOS**"
   ]
  },
  {
   "cell_type": "code",
   "execution_count": 42,
   "metadata": {},
   "outputs": [
    {
     "name": "stdout",
     "output_type": "stream",
     "text": [
      "budget                       0\n",
      "IdMovie                      0\n",
      "original_language           11\n",
      "popularity                   0\n",
      "release_date                 0\n",
      "revenue                      0\n",
      "runtime                    246\n",
      "title                        0\n",
      "vote_average                 0\n",
      "vote_count                   0\n",
      "return                       0\n",
      "release_year                 0\n",
      "id_genres                    0\n",
      "genres                       0\n",
      "production_companies         0\n",
      "id_production_companies      0\n",
      "production_countries         0\n",
      "spoken_languages             0\n",
      "dtype: int64\n"
     ]
    }
   ],
   "source": [
    "nulos1 = movie_test_df.isnull().sum()\n",
    "print(nulos1 )"
   ]
  },
  {
   "cell_type": "code",
   "execution_count": 43,
   "metadata": {},
   "outputs": [],
   "source": [
    "# inplace=True: afecta directamente al dataframe\n",
    "movie_test_df[\"runtime\"].fillna(0,inplace=True)\n",
    "movie_test_df[\"original_language\"].fillna('desconocido',inplace=True)"
   ]
  },
  {
   "cell_type": "code",
   "execution_count": 44,
   "metadata": {},
   "outputs": [
    {
     "name": "stdout",
     "output_type": "stream",
     "text": [
      "budget                     0\n",
      "IdMovie                    0\n",
      "original_language          0\n",
      "popularity                 0\n",
      "release_date               0\n",
      "revenue                    0\n",
      "runtime                    0\n",
      "title                      0\n",
      "vote_average               0\n",
      "vote_count                 0\n",
      "return                     0\n",
      "release_year               0\n",
      "id_genres                  0\n",
      "genres                     0\n",
      "production_companies       0\n",
      "id_production_companies    0\n",
      "production_countries       0\n",
      "spoken_languages           0\n",
      "dtype: int64\n"
     ]
    }
   ],
   "source": [
    "nulos2 = movie_test_df.isnull().sum()\n",
    "print(nulos2 )"
   ]
  },
  {
   "cell_type": "code",
   "execution_count": 45,
   "metadata": {},
   "outputs": [
    {
     "data": {
      "text/plain": [
       "0    en\n",
       "1    en\n",
       "2    en\n",
       "3    en\n",
       "4    en\n",
       "Name: original_language, dtype: object"
      ]
     },
     "execution_count": 45,
     "metadata": {},
     "output_type": "execute_result"
    }
   ],
   "source": [
    "movie_test_df[\"original_language\"].head(5)"
   ]
  },
  {
   "cell_type": "markdown",
   "metadata": {},
   "source": [
    "### VERIFICACIÓN IDENTIFICADORES UNICOS"
   ]
  },
  {
   "cell_type": "markdown",
   "metadata": {},
   "source": [
    "Cantidad de valores duplicados, luego de aparcer por segunda vez <p>\n",
    "Identificador único: 'id'"
   ]
  },
  {
   "cell_type": "code",
   "execution_count": null,
   "metadata": {},
   "outputs": [],
   "source": [
    "duplicados= movie_test_df[movie_test_df[\"IdMovie\"].duplicated()]\n",
    "print(len(duplicados))\n",
    "duplicados"
   ]
  },
  {
   "cell_type": "markdown",
   "metadata": {},
   "source": [
    "Eliminación de valores duplicados de la columna 'IdMovie'"
   ]
  },
  {
   "cell_type": "code",
   "execution_count": 47,
   "metadata": {},
   "outputs": [],
   "source": [
    "# keep='first' se mantiene el id original, y se elimina el duplicado\n",
    "movie_test_df.drop_duplicates(subset='IdMovie', keep='first', inplace=True)"
   ]
  },
  {
   "cell_type": "markdown",
   "metadata": {},
   "source": [
    "Se verifica que ya no existen valores duplicados"
   ]
  },
  {
   "cell_type": "code",
   "execution_count": 48,
   "metadata": {},
   "outputs": [
    {
     "name": "stdout",
     "output_type": "stream",
     "text": [
      "0\n"
     ]
    },
    {
     "data": {
      "text/html": [
       "<div>\n",
       "<style scoped>\n",
       "    .dataframe tbody tr th:only-of-type {\n",
       "        vertical-align: middle;\n",
       "    }\n",
       "\n",
       "    .dataframe tbody tr th {\n",
       "        vertical-align: top;\n",
       "    }\n",
       "\n",
       "    .dataframe thead th {\n",
       "        text-align: right;\n",
       "    }\n",
       "</style>\n",
       "<table border=\"1\" class=\"dataframe\">\n",
       "  <thead>\n",
       "    <tr style=\"text-align: right;\">\n",
       "      <th></th>\n",
       "      <th>budget</th>\n",
       "      <th>IdMovie</th>\n",
       "      <th>original_language</th>\n",
       "      <th>popularity</th>\n",
       "      <th>release_date</th>\n",
       "      <th>revenue</th>\n",
       "      <th>runtime</th>\n",
       "      <th>title</th>\n",
       "      <th>vote_average</th>\n",
       "      <th>vote_count</th>\n",
       "      <th>return</th>\n",
       "      <th>release_year</th>\n",
       "      <th>id_genres</th>\n",
       "      <th>genres</th>\n",
       "      <th>production_companies</th>\n",
       "      <th>id_production_companies</th>\n",
       "      <th>production_countries</th>\n",
       "      <th>spoken_languages</th>\n",
       "    </tr>\n",
       "  </thead>\n",
       "  <tbody>\n",
       "  </tbody>\n",
       "</table>\n",
       "</div>"
      ],
      "text/plain": [
       "Empty DataFrame\n",
       "Columns: [budget, IdMovie, original_language, popularity, release_date, revenue, runtime, title, vote_average, vote_count, return, release_year, id_genres, genres, production_companies, id_production_companies, production_countries, spoken_languages]\n",
       "Index: []"
      ]
     },
     "execution_count": 48,
     "metadata": {},
     "output_type": "execute_result"
    }
   ],
   "source": [
    "duplicados2= movie_test_df[movie_test_df[\"IdMovie\"].duplicated()]\n",
    "print(len(duplicados2))\n",
    "duplicados2"
   ]
  },
  {
   "cell_type": "markdown",
   "metadata": {},
   "source": []
  },
  {
   "cell_type": "markdown",
   "metadata": {},
   "source": [
    "### CAMBIOS PARA FUNCIONES API"
   ]
  },
  {
   "cell_type": "markdown",
   "metadata": {},
   "source": [
    "def cantidad_filmaciones_mes(Mes): Se ingresa un mes en idioma Español. Debe devolver la cantidad de películas que fueron estrenadas en el mes consultado en la totalidad del dataset."
   ]
  },
  {
   "cell_type": "markdown",
   "metadata": {},
   "source": [
    "Se generan Columnas en Español"
   ]
  },
  {
   "cell_type": "code",
   "execution_count": 49,
   "metadata": {},
   "outputs": [
    {
     "data": {
      "text/plain": [
       "0   1995-10-30\n",
       "Name: release_date, dtype: datetime64[ns]"
      ]
     },
     "execution_count": 49,
     "metadata": {},
     "output_type": "execute_result"
    }
   ],
   "source": [
    "movie_test_df[\"release_date\"].head(1)\n",
    "# tipo de dato: datetime64"
   ]
  },
  {
   "cell_type": "markdown",
   "metadata": {},
   "source": [
    "Diccionario meses en Español"
   ]
  },
  {
   "cell_type": "code",
   "execution_count": 50,
   "metadata": {},
   "outputs": [
    {
     "data": {
      "text/plain": [
       "{1: 'Enero',\n",
       " 2: 'Febrero',\n",
       " 3: 'Marzo',\n",
       " 4: 'Abril',\n",
       " 5: 'Mayo',\n",
       " 6: 'Junio',\n",
       " 7: 'Julio',\n",
       " 8: 'Agosto',\n",
       " 9: 'Septiembre',\n",
       " 10: 'Octubre',\n",
       " 11: 'Noviembre',\n",
       " 12: 'Diciembre'}"
      ]
     },
     "execution_count": 50,
     "metadata": {},
     "output_type": "execute_result"
    }
   ],
   "source": [
    "meses = {\n",
    "    1: 'Enero',\n",
    "    2:'Febrero',\n",
    "    3: \"Marzo\",\n",
    "    4: \"Abril\",\n",
    "    5: \"Mayo\", \n",
    "    6: \"Junio\",\n",
    "    7: \"Julio\",\n",
    "    8: \"Agosto\", \n",
    "    9: \"Septiembre\", \n",
    "    10: \"Octubre\", \n",
    "    11: \"Noviembre\", \n",
    "    12: \"Diciembre\"\n",
    "}\n",
    "meses"
   ]
  },
  {
   "cell_type": "markdown",
   "metadata": {},
   "source": [
    "- Se crea columna en el dataset 'release_meses'\n",
    "- Se mapea y se asigna el valor del diccionario correspondiente"
   ]
  },
  {
   "cell_type": "code",
   "execution_count": 51,
   "metadata": {},
   "outputs": [],
   "source": [
    "movie_test_df[\"release_meses\"] = movie_test_df[\"release_date\"].dt.month.map(meses)"
   ]
  },
  {
   "cell_type": "markdown",
   "metadata": {},
   "source": [
    "Se verifica creación y asignación correcta"
   ]
  },
  {
   "cell_type": "code",
   "execution_count": 52,
   "metadata": {},
   "outputs": [
    {
     "data": {
      "text/html": [
       "<div>\n",
       "<style scoped>\n",
       "    .dataframe tbody tr th:only-of-type {\n",
       "        vertical-align: middle;\n",
       "    }\n",
       "\n",
       "    .dataframe tbody tr th {\n",
       "        vertical-align: top;\n",
       "    }\n",
       "\n",
       "    .dataframe thead th {\n",
       "        text-align: right;\n",
       "    }\n",
       "</style>\n",
       "<table border=\"1\" class=\"dataframe\">\n",
       "  <thead>\n",
       "    <tr style=\"text-align: right;\">\n",
       "      <th></th>\n",
       "      <th>release_date</th>\n",
       "      <th>release_meses</th>\n",
       "    </tr>\n",
       "  </thead>\n",
       "  <tbody>\n",
       "    <tr>\n",
       "      <th>0</th>\n",
       "      <td>1995-10-30</td>\n",
       "      <td>Octubre</td>\n",
       "    </tr>\n",
       "    <tr>\n",
       "      <th>1</th>\n",
       "      <td>1995-12-15</td>\n",
       "      <td>Diciembre</td>\n",
       "    </tr>\n",
       "    <tr>\n",
       "      <th>2</th>\n",
       "      <td>1995-12-22</td>\n",
       "      <td>Diciembre</td>\n",
       "    </tr>\n",
       "    <tr>\n",
       "      <th>3</th>\n",
       "      <td>1995-12-22</td>\n",
       "      <td>Diciembre</td>\n",
       "    </tr>\n",
       "    <tr>\n",
       "      <th>4</th>\n",
       "      <td>1995-02-10</td>\n",
       "      <td>Febrero</td>\n",
       "    </tr>\n",
       "    <tr>\n",
       "      <th>5</th>\n",
       "      <td>1995-12-15</td>\n",
       "      <td>Diciembre</td>\n",
       "    </tr>\n",
       "    <tr>\n",
       "      <th>6</th>\n",
       "      <td>1995-12-15</td>\n",
       "      <td>Diciembre</td>\n",
       "    </tr>\n",
       "    <tr>\n",
       "      <th>7</th>\n",
       "      <td>1995-12-22</td>\n",
       "      <td>Diciembre</td>\n",
       "    </tr>\n",
       "    <tr>\n",
       "      <th>8</th>\n",
       "      <td>1995-12-22</td>\n",
       "      <td>Diciembre</td>\n",
       "    </tr>\n",
       "    <tr>\n",
       "      <th>9</th>\n",
       "      <td>1995-11-16</td>\n",
       "      <td>Noviembre</td>\n",
       "    </tr>\n",
       "  </tbody>\n",
       "</table>\n",
       "</div>"
      ],
      "text/plain": [
       "  release_date release_meses\n",
       "0   1995-10-30       Octubre\n",
       "1   1995-12-15     Diciembre\n",
       "2   1995-12-22     Diciembre\n",
       "3   1995-12-22     Diciembre\n",
       "4   1995-02-10       Febrero\n",
       "5   1995-12-15     Diciembre\n",
       "6   1995-12-15     Diciembre\n",
       "7   1995-12-22     Diciembre\n",
       "8   1995-12-22     Diciembre\n",
       "9   1995-11-16     Noviembre"
      ]
     },
     "execution_count": 52,
     "metadata": {},
     "output_type": "execute_result"
    }
   ],
   "source": [
    "movie_test_df[[\"release_date\", \"release_meses\"]].head(10)"
   ]
  },
  {
   "cell_type": "markdown",
   "metadata": {},
   "source": [
    "PASOS\n",
    "- Obtener número del mes de la columna 'col_mes'\n",
    "- Si número col_mes == key del dic meses\n",
    "- Se asigna a un dataframe release_mes: mese[key] "
   ]
  },
  {
   "cell_type": "code",
   "execution_count": 53,
   "metadata": {},
   "outputs": [
    {
     "data": {
      "text/html": [
       "<div>\n",
       "<style scoped>\n",
       "    .dataframe tbody tr th:only-of-type {\n",
       "        vertical-align: middle;\n",
       "    }\n",
       "\n",
       "    .dataframe tbody tr th {\n",
       "        vertical-align: top;\n",
       "    }\n",
       "\n",
       "    .dataframe thead th {\n",
       "        text-align: right;\n",
       "    }\n",
       "</style>\n",
       "<table border=\"1\" class=\"dataframe\">\n",
       "  <thead>\n",
       "    <tr style=\"text-align: right;\">\n",
       "      <th></th>\n",
       "      <th>budget</th>\n",
       "      <th>IdMovie</th>\n",
       "      <th>original_language</th>\n",
       "      <th>popularity</th>\n",
       "      <th>release_date</th>\n",
       "      <th>revenue</th>\n",
       "      <th>runtime</th>\n",
       "      <th>title</th>\n",
       "      <th>vote_average</th>\n",
       "      <th>vote_count</th>\n",
       "      <th>return</th>\n",
       "      <th>release_year</th>\n",
       "      <th>id_genres</th>\n",
       "      <th>genres</th>\n",
       "      <th>production_companies</th>\n",
       "      <th>id_production_companies</th>\n",
       "      <th>production_countries</th>\n",
       "      <th>spoken_languages</th>\n",
       "      <th>release_meses</th>\n",
       "    </tr>\n",
       "  </thead>\n",
       "  <tbody>\n",
       "    <tr>\n",
       "      <th>0</th>\n",
       "      <td>30000000</td>\n",
       "      <td>862</td>\n",
       "      <td>en</td>\n",
       "      <td>21.946943</td>\n",
       "      <td>1995-10-30</td>\n",
       "      <td>373554033</td>\n",
       "      <td>81.0</td>\n",
       "      <td>Toy Story</td>\n",
       "      <td>7.7</td>\n",
       "      <td>5415.0</td>\n",
       "      <td>12.45</td>\n",
       "      <td>1995</td>\n",
       "      <td>16</td>\n",
       "      <td>Animation</td>\n",
       "      <td>Pixar Animation Studios</td>\n",
       "      <td>3</td>\n",
       "      <td>United States of America</td>\n",
       "      <td>English</td>\n",
       "      <td>Octubre</td>\n",
       "    </tr>\n",
       "    <tr>\n",
       "      <th>1</th>\n",
       "      <td>65000000</td>\n",
       "      <td>8844</td>\n",
       "      <td>en</td>\n",
       "      <td>17.015539</td>\n",
       "      <td>1995-12-15</td>\n",
       "      <td>262797249</td>\n",
       "      <td>104.0</td>\n",
       "      <td>Jumanji</td>\n",
       "      <td>6.9</td>\n",
       "      <td>2413.0</td>\n",
       "      <td>4.04</td>\n",
       "      <td>1995</td>\n",
       "      <td>35</td>\n",
       "      <td>Comedy</td>\n",
       "      <td>TriStar Pictures</td>\n",
       "      <td>559</td>\n",
       "      <td>United States of America</td>\n",
       "      <td>English</td>\n",
       "      <td>Diciembre</td>\n",
       "    </tr>\n",
       "    <tr>\n",
       "      <th>2</th>\n",
       "      <td>0</td>\n",
       "      <td>15602</td>\n",
       "      <td>en</td>\n",
       "      <td>11.712900</td>\n",
       "      <td>1995-12-22</td>\n",
       "      <td>0</td>\n",
       "      <td>101.0</td>\n",
       "      <td>Grumpier Old Men</td>\n",
       "      <td>6.5</td>\n",
       "      <td>92.0</td>\n",
       "      <td>0.00</td>\n",
       "      <td>1995</td>\n",
       "      <td>10751</td>\n",
       "      <td>Family</td>\n",
       "      <td>Teitler Film</td>\n",
       "      <td>2550</td>\n",
       "      <td>United States of America</td>\n",
       "      <td>Français</td>\n",
       "      <td>Diciembre</td>\n",
       "    </tr>\n",
       "    <tr>\n",
       "      <th>3</th>\n",
       "      <td>16000000</td>\n",
       "      <td>31357</td>\n",
       "      <td>en</td>\n",
       "      <td>3.859495</td>\n",
       "      <td>1995-12-22</td>\n",
       "      <td>81452156</td>\n",
       "      <td>127.0</td>\n",
       "      <td>Waiting to Exhale</td>\n",
       "      <td>6.1</td>\n",
       "      <td>34.0</td>\n",
       "      <td>5.09</td>\n",
       "      <td>1995</td>\n",
       "      <td>12</td>\n",
       "      <td>Adventure</td>\n",
       "      <td>Interscope Communications</td>\n",
       "      <td>10201</td>\n",
       "      <td>United States of America</td>\n",
       "      <td>English</td>\n",
       "      <td>Diciembre</td>\n",
       "    </tr>\n",
       "    <tr>\n",
       "      <th>4</th>\n",
       "      <td>0</td>\n",
       "      <td>11862</td>\n",
       "      <td>en</td>\n",
       "      <td>8.387519</td>\n",
       "      <td>1995-02-10</td>\n",
       "      <td>76578911</td>\n",
       "      <td>106.0</td>\n",
       "      <td>Father of the Bride Part II</td>\n",
       "      <td>5.7</td>\n",
       "      <td>173.0</td>\n",
       "      <td>0.00</td>\n",
       "      <td>1995</td>\n",
       "      <td>14</td>\n",
       "      <td>Fantasy</td>\n",
       "      <td>Warner Bros.</td>\n",
       "      <td>6194</td>\n",
       "      <td>United States of America</td>\n",
       "      <td>English</td>\n",
       "      <td>Febrero</td>\n",
       "    </tr>\n",
       "    <tr>\n",
       "      <th>5</th>\n",
       "      <td>60000000</td>\n",
       "      <td>949</td>\n",
       "      <td>en</td>\n",
       "      <td>17.924927</td>\n",
       "      <td>1995-12-15</td>\n",
       "      <td>187436818</td>\n",
       "      <td>170.0</td>\n",
       "      <td>Heat</td>\n",
       "      <td>7.7</td>\n",
       "      <td>1886.0</td>\n",
       "      <td>3.12</td>\n",
       "      <td>1995</td>\n",
       "      <td>10751</td>\n",
       "      <td>Family</td>\n",
       "      <td>Lancaster Gate</td>\n",
       "      <td>19464</td>\n",
       "      <td>United States of America</td>\n",
       "      <td>English</td>\n",
       "      <td>Diciembre</td>\n",
       "    </tr>\n",
       "    <tr>\n",
       "      <th>6</th>\n",
       "      <td>58000000</td>\n",
       "      <td>11860</td>\n",
       "      <td>en</td>\n",
       "      <td>6.677277</td>\n",
       "      <td>1995-12-15</td>\n",
       "      <td>0</td>\n",
       "      <td>127.0</td>\n",
       "      <td>Sabrina</td>\n",
       "      <td>6.2</td>\n",
       "      <td>141.0</td>\n",
       "      <td>0.00</td>\n",
       "      <td>1995</td>\n",
       "      <td>10749</td>\n",
       "      <td>Romance</td>\n",
       "      <td>Twentieth Century Fox Film Corporation</td>\n",
       "      <td>306</td>\n",
       "      <td>Germany</td>\n",
       "      <td>English</td>\n",
       "      <td>Diciembre</td>\n",
       "    </tr>\n",
       "    <tr>\n",
       "      <th>7</th>\n",
       "      <td>0</td>\n",
       "      <td>45325</td>\n",
       "      <td>en</td>\n",
       "      <td>2.561161</td>\n",
       "      <td>1995-12-22</td>\n",
       "      <td>0</td>\n",
       "      <td>97.0</td>\n",
       "      <td>Tom and Huck</td>\n",
       "      <td>5.4</td>\n",
       "      <td>45.0</td>\n",
       "      <td>0.00</td>\n",
       "      <td>1995</td>\n",
       "      <td>35</td>\n",
       "      <td>Comedy</td>\n",
       "      <td>Sandollar Productions</td>\n",
       "      <td>5842</td>\n",
       "      <td>United States of America</td>\n",
       "      <td>Español</td>\n",
       "      <td>Diciembre</td>\n",
       "    </tr>\n",
       "    <tr>\n",
       "      <th>8</th>\n",
       "      <td>35000000</td>\n",
       "      <td>9091</td>\n",
       "      <td>en</td>\n",
       "      <td>5.231580</td>\n",
       "      <td>1995-12-22</td>\n",
       "      <td>64350171</td>\n",
       "      <td>106.0</td>\n",
       "      <td>Sudden Death</td>\n",
       "      <td>5.5</td>\n",
       "      <td>174.0</td>\n",
       "      <td>1.84</td>\n",
       "      <td>1995</td>\n",
       "      <td>35</td>\n",
       "      <td>Comedy</td>\n",
       "      <td>Touchstone Pictures</td>\n",
       "      <td>9195</td>\n",
       "      <td>United States of America</td>\n",
       "      <td>Français</td>\n",
       "      <td>Diciembre</td>\n",
       "    </tr>\n",
       "    <tr>\n",
       "      <th>9</th>\n",
       "      <td>58000000</td>\n",
       "      <td>710</td>\n",
       "      <td>en</td>\n",
       "      <td>14.686036</td>\n",
       "      <td>1995-11-16</td>\n",
       "      <td>352194034</td>\n",
       "      <td>130.0</td>\n",
       "      <td>GoldenEye</td>\n",
       "      <td>6.6</td>\n",
       "      <td>1194.0</td>\n",
       "      <td>6.07</td>\n",
       "      <td>1995</td>\n",
       "      <td>18</td>\n",
       "      <td>Drama</td>\n",
       "      <td>Regency Enterprises</td>\n",
       "      <td>508</td>\n",
       "      <td>United States of America</td>\n",
       "      <td>English</td>\n",
       "      <td>Noviembre</td>\n",
       "    </tr>\n",
       "  </tbody>\n",
       "</table>\n",
       "</div>"
      ],
      "text/plain": [
       "     budget  IdMovie original_language  popularity release_date    revenue  \\\n",
       "0  30000000      862                en   21.946943   1995-10-30  373554033   \n",
       "1  65000000     8844                en   17.015539   1995-12-15  262797249   \n",
       "2         0    15602                en   11.712900   1995-12-22          0   \n",
       "3  16000000    31357                en    3.859495   1995-12-22   81452156   \n",
       "4         0    11862                en    8.387519   1995-02-10   76578911   \n",
       "5  60000000      949                en   17.924927   1995-12-15  187436818   \n",
       "6  58000000    11860                en    6.677277   1995-12-15          0   \n",
       "7         0    45325                en    2.561161   1995-12-22          0   \n",
       "8  35000000     9091                en    5.231580   1995-12-22   64350171   \n",
       "9  58000000      710                en   14.686036   1995-11-16  352194034   \n",
       "\n",
       "   runtime                        title  vote_average  vote_count  return  \\\n",
       "0     81.0                    Toy Story           7.7      5415.0   12.45   \n",
       "1    104.0                      Jumanji           6.9      2413.0    4.04   \n",
       "2    101.0             Grumpier Old Men           6.5        92.0    0.00   \n",
       "3    127.0            Waiting to Exhale           6.1        34.0    5.09   \n",
       "4    106.0  Father of the Bride Part II           5.7       173.0    0.00   \n",
       "5    170.0                         Heat           7.7      1886.0    3.12   \n",
       "6    127.0                      Sabrina           6.2       141.0    0.00   \n",
       "7     97.0                 Tom and Huck           5.4        45.0    0.00   \n",
       "8    106.0                 Sudden Death           5.5       174.0    1.84   \n",
       "9    130.0                    GoldenEye           6.6      1194.0    6.07   \n",
       "\n",
       "   release_year  id_genres     genres                    production_companies  \\\n",
       "0          1995         16  Animation                 Pixar Animation Studios   \n",
       "1          1995         35     Comedy                        TriStar Pictures   \n",
       "2          1995      10751     Family                            Teitler Film   \n",
       "3          1995         12  Adventure               Interscope Communications   \n",
       "4          1995         14    Fantasy                            Warner Bros.   \n",
       "5          1995      10751     Family                          Lancaster Gate   \n",
       "6          1995      10749    Romance  Twentieth Century Fox Film Corporation   \n",
       "7          1995         35     Comedy                   Sandollar Productions   \n",
       "8          1995         35     Comedy                     Touchstone Pictures   \n",
       "9          1995         18      Drama                     Regency Enterprises   \n",
       "\n",
       "   id_production_companies      production_countries spoken_languages  \\\n",
       "0                        3  United States of America          English   \n",
       "1                      559  United States of America          English   \n",
       "2                     2550  United States of America         Français   \n",
       "3                    10201  United States of America          English   \n",
       "4                     6194  United States of America          English   \n",
       "5                    19464  United States of America          English   \n",
       "6                      306                   Germany          English   \n",
       "7                     5842  United States of America          Español   \n",
       "8                     9195  United States of America         Français   \n",
       "9                      508  United States of America          English   \n",
       "\n",
       "  release_meses  \n",
       "0       Octubre  \n",
       "1     Diciembre  \n",
       "2     Diciembre  \n",
       "3     Diciembre  \n",
       "4       Febrero  \n",
       "5     Diciembre  \n",
       "6     Diciembre  \n",
       "7     Diciembre  \n",
       "8     Diciembre  \n",
       "9     Noviembre  "
      ]
     },
     "execution_count": 53,
     "metadata": {},
     "output_type": "execute_result"
    }
   ],
   "source": [
    "movie_test_df.head(10)"
   ]
  },
  {
   "cell_type": "markdown",
   "metadata": {},
   "source": [
    "### EXPORTACIÓN DATASET FINAL "
   ]
  },
  {
   "cell_type": "code",
   "execution_count": 54,
   "metadata": {},
   "outputs": [
    {
     "name": "stdout",
     "output_type": "stream",
     "text": [
      "(45346, 19)\n",
      "<class 'pandas.core.frame.DataFrame'>\n",
      "Index: 45346 entries, 0 to 45465\n",
      "Data columns (total 19 columns):\n",
      " #   Column                   Non-Null Count  Dtype         \n",
      "---  ------                   --------------  -----         \n",
      " 0   budget                   45346 non-null  Int64         \n",
      " 1   IdMovie                  45346 non-null  Int64         \n",
      " 2   original_language        45346 non-null  object        \n",
      " 3   popularity               45346 non-null  float64       \n",
      " 4   release_date             45346 non-null  datetime64[ns]\n",
      " 5   revenue                  45346 non-null  Int64         \n",
      " 6   runtime                  45346 non-null  float64       \n",
      " 7   title                    45346 non-null  object        \n",
      " 8   vote_average             45346 non-null  float64       \n",
      " 9   vote_count               45346 non-null  float64       \n",
      " 10  return                   45346 non-null  float64       \n",
      " 11  release_year             45346 non-null  Int64         \n",
      " 12  id_genres                45346 non-null  int64         \n",
      " 13  genres                   45346 non-null  object        \n",
      " 14  production_companies     45346 non-null  object        \n",
      " 15  id_production_companies  45346 non-null  int64         \n",
      " 16  production_countries     45346 non-null  object        \n",
      " 17  spoken_languages         45346 non-null  object        \n",
      " 18  release_meses            45346 non-null  object        \n",
      "dtypes: Int64(4), datetime64[ns](1), float64(5), int64(2), object(7)\n",
      "memory usage: 7.1+ MB\n"
     ]
    }
   ],
   "source": [
    "print(movie_test_df.shape)\n",
    "movie_test_df.info()"
   ]
  },
  {
   "cell_type": "code",
   "execution_count": 55,
   "metadata": {},
   "outputs": [],
   "source": [
    "movie_test_df.to_parquet('datasets/movie_dataset_final.parquet', engine='pyarrow')"
   ]
  }
 ],
 "metadata": {
  "kernelspec": {
   "display_name": "Python 3",
   "language": "python",
   "name": "python3"
  },
  "language_info": {
   "codemirror_mode": {
    "name": "ipython",
    "version": 3
   },
   "file_extension": ".py",
   "mimetype": "text/x-python",
   "name": "python",
   "nbconvert_exporter": "python",
   "pygments_lexer": "ipython3",
   "version": "3.11.2"
  }
 },
 "nbformat": 4,
 "nbformat_minor": 2
}
